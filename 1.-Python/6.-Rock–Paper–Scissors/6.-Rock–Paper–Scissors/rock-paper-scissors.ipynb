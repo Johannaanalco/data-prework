{
 "cells": [
  {
   "cell_type": "markdown",
   "metadata": {},
   "source": [
    "<img src=\"https://bit.ly/2VnXWr2\" width=\"100\" align=\"left\">"
   ]
  },
  {
   "cell_type": "markdown",
   "metadata": {},
   "source": [
    "# Rock, Paper & Scissors\n",
    "\n",
    "Let's play the famous game against our computer. You can check the rules [here](https://en.wikipedia.org/wiki/Rock%E2%80%93paper%E2%80%93scissors). \n",
    "\n",
    "## Task\n",
    "Create a program that imitates the playability of the well known game of rock, paper, scissors. Follow the guidelines provided.\n",
    "\n",
    "## Tools\n",
    "1. Loop: **for/while**\n",
    "2. Functions: **input(), print()...**\n",
    "3. Conditional statements: **if, elif, else**\n",
    "4. Definition of functions. Modular programming\n",
    "5. Import modules\n",
    "\n",
    "**To solve this challenge, the use of functions is recommended.**\n",
    "\n",
    "#### 1. Import the choice function of the random module."
   ]
  },
  {
   "cell_type": "code",
   "execution_count": null,
   "metadata": {},
   "outputs": [],
   "source": [
    "import random\n",
    "from typing import ForwardRef"
   ]
  },
  {
   "cell_type": "markdown",
   "metadata": {},
   "source": [
    "#### 2. Create a list that includes the 3 possible gesture options of the game: 'rock', 'paper' or 'scissors'. Store the list in a variable called `gestures`."
   ]
  },
  {
   "cell_type": "code",
   "execution_count": null,
   "metadata": {},
   "outputs": [],
   "source": [
    "gesture_options = [\"rock\", \"paper,\" \"scissors\"]"
   ]
  },
  {
   "cell_type": "markdown",
   "metadata": {},
   "source": [
    "#### 3. Create a variable called `n_rounds` to store the maximum number of rounds to play in a game. \n",
    "Remember that the number of rounds must be odd: 1, 3, 5, ..."
   ]
  },
  {
   "cell_type": "code",
   "execution_count": null,
   "metadata": {},
   "outputs": [],
   "source": [
    "n_rounds = 0\n",
    "n_played_rounds = 0"
   ]
  },
  {
   "cell_type": "markdown",
   "metadata": {},
   "source": [
    "#### 4. Create a variable called `rounds_to_win` to store the number of rounds that a player must win to win the game.\n",
    "**Hint**: the value stored in `rounds_to_win` depends on the value of `n_rounds`. "
   ]
  },
  {
   "cell_type": "raw",
   "metadata": {},
   "source": [
    "rounds_to_win = 0"
   ]
  },
  {
   "cell_type": "markdown",
   "metadata": {},
   "source": [
    "#### 5. Create two variables to store the number of rounds that the computer and the player have won. Call these variables `cpu_score` and `player_score`."
   ]
  },
  {
   "cell_type": "code",
   "execution_count": null,
   "metadata": {},
   "outputs": [],
   "source": [
    "cpu_score = 0\n",
    "player_score = 0"
   ]
  },
  {
   "cell_type": "markdown",
   "metadata": {},
   "source": [
    "#### 6. Define a function that randomly returns one of the 3 gesture options.\n",
    "You will use this function to simulate the gesture choice of the computer. "
   ]
  },
  {
   "cell_type": "code",
   "execution_count": 4,
   "metadata": {},
   "outputs": [],
   "source": [
    "def return_cpu_choice():\n",
    "    variable = random.choice(gesture_options)\n",
    "    return variable"
   ]
  },
  {
   "cell_type": "markdown",
   "metadata": {},
   "source": [
    "#### 7. Define a function that asks the player which is the gesture he or she wants to show: 'rock', 'paper' or 'scissors'.\n",
    "The player should only be allowed to choose one of the 3 gesture options. If the player's choice is not rock, paper or scissors, keep asking until it is."
   ]
  },
  {
   "cell_type": "code",
   "execution_count": 1,
   "metadata": {},
   "outputs": [],
   "source": [
    "def ask_player_for_gesture():\n",
    "    print('Chose a gesture: either rock, paper, scissors')\n",
    "    player_choice = input()\n",
    "    if player_choice != \"rock\":\n",
    "        if player_choice != \"paper\":\n",
    "            if player_choice != \"scissors\":\n",
    "                return ask_player_for_gesture()\n",
    "    return player_choice"
   ]
  },
  {
   "cell_type": "markdown",
   "metadata": {},
   "source": [
    "#### 8. Define a function that checks who won a round. \n",
    "The function should return 0 if there is a tie, 1 if the computer wins and 2 if the player wins."
   ]
  },
  {
   "cell_type": "code",
   "execution_count": 2,
   "metadata": {},
   "outputs": [],
   "source": [
    "def get_winner(player_choise, cpu_choice):\n",
    "    if player_choise == \"rock\" and cpu_choice == \"scissors\":\n",
    "        return 2\n",
    "    if player_choise == \"paper\" and cpu_choice == \"scissors\":\n",
    "        return 1\n",
    "    if player_choise == \"scissors\" and cpu_choice == \"scissors\":\n",
    "        return 0\n",
    "\n",
    "    if player_choise == \"rock\" and cpu_choice == \"paper\":\n",
    "        return 1\n",
    "    if player_choise == \"paper\" and cpu_choice == \"paper\":\n",
    "        return 0\n",
    "    if player_choise == \"scissors\" and cpu_choice == \"paper\":\n",
    "        return 2\n",
    "\n",
    "    if player_choise == \"rock\" and cpu_choice == \"rock\":\n",
    "        return 0\n",
    "    if player_choise == \"paper\" and cpu_choice == \"rock\":\n",
    "        return 2\n",
    "    if player_choise == \"scissors\" and cpu_choice == \"rock\":\n",
    "        return 1\n"
   ]
  },
  {
   "cell_type": "markdown",
   "metadata": {},
   "source": [
    "#### 9. Define a function that prints the choice of the computer, the choice of the player and a message that announces who won the current round. \n",
    "You should also use this function to update the variables that count the number of rounds that the computer and the player have won. The score of the winner increases by one point. If there is a tie, the score does not increase."
   ]
  },
  {
   "cell_type": "code",
   "execution_count": 3,
   "metadata": {},
   "outputs": [],
   "source": [
    "def print_game_stats(player_choise, cpu_choice):\n",
    "    global cpu_score\n",
    "    global player_score\n",
    "    print(\"CPU chose: \", cpu_choice)\n",
    "    print(\"Player chose: \", player_choise)\n",
    "    result = get_winner(player_choise, cpu_choice)\n",
    "    if result == 0:\n",
    "        print(\"There was a tie in the round\")\n",
    "    if result == 1:\n",
    "        print(\"The CPU won the round\")\n",
    "        cpu_score += 1\n",
    "    if result == 2:\n",
    "        print(\"The player won the round\")\n",
    "        player_score += 1"
   ]
  },
  {
   "cell_type": "markdown",
   "metadata": {},
   "source": [
    "#### 10. Now it's time to code the execution of the game using the functions and variables you defined above. \n",
    "\n",
    "First, create a loop structure that repeats while no player reaches the minimum score necessary to win and the number of rounds is less than the maximum number of rounds to play in a game.  \n",
    "\n",
    "Inside the loop, use the functions and variables above to create the execution of a round: ask for the player's choice, generate the random choice of the computer, show the round results, update the scores, etc. "
   ]
  },
  {
   "cell_type": "code",
   "execution_count": 2,
   "metadata": {},
   "outputs": [
    {
     "name": "stdout",
     "output_type": "stream",
     "text": [
      "Chose a gesture: either rock, paper, scissors\n",
      "rock\n",
      "CPU chose:  paper,scissors\n",
      "Player chose:  rock\n",
      "Round played:  1\n",
      "Chose a gesture: either rock, paper, scissors\n",
      "paper\n",
      "CPU chose:  rock\n",
      "Player chose:  paper\n",
      "The player won the round\n",
      "Round played:  2\n",
      "Chose a gesture: either rock, paper, scissors\n",
      "scissors\n",
      "CPU chose:  paper,scissors\n",
      "Player chose:  scissors\n",
      "Round played:  3\n",
      "Player Won the game!\n"
     ]
    }
   ],
   "source": [
    "import random\n",
    "from typing import ForwardRef\n",
    "\n",
    "gesture_options = (\"rock\", \"paper,\" \"scissors\")\n",
    "n_rounds = 0\n",
    "n_played_rounds = 0\n",
    "rounds_to_win = 0\n",
    "cpu_score = 0\n",
    "player_score = 0\n",
    "\n",
    "def return_cpu_choice():\n",
    "    variable = random.choice(gesture_options)\n",
    "    return variable\n",
    "\n",
    "def ask_player_for_gesture():\n",
    "    print('Chose a gesture: either rock, paper, scissors')\n",
    "    player_choice = input()\n",
    "    if player_choice != \"rock\":\n",
    "        if player_choice != \"paper\":\n",
    "            if player_choice != \"scissors\":\n",
    "                return ask_player_for_gesture()\n",
    "    return player_choice\n",
    "\n",
    "def get_winner(player_choise, cpu_choice):\n",
    "    if player_choise == \"rock\" and cpu_choice == \"scissors\":\n",
    "        return 2\n",
    "    if player_choise == \"paper\" and cpu_choice == \"scissors\":\n",
    "        return 1\n",
    "    if player_choise == \"scissors\" and cpu_choice == \"scissors\":\n",
    "        return 0\n",
    "\n",
    "    if player_choise == \"rock\" and cpu_choice == \"paper\":\n",
    "        return 1\n",
    "    if player_choise == \"paper\" and cpu_choice == \"paper\":\n",
    "        return 0\n",
    "    if player_choise == \"scissors\" and cpu_choice == \"paper\":\n",
    "        return 2\n",
    "\n",
    "    if player_choise == \"rock\" and cpu_choice == \"rock\":\n",
    "        return 0\n",
    "    if player_choise == \"paper\" and cpu_choice == \"rock\":\n",
    "        return 2\n",
    "    if player_choise == \"scissors\" and cpu_choice == \"rock\":\n",
    "        return 1\n",
    "\n",
    "def print_game_stats(player_choise, cpu_choice):\n",
    "    global cpu_score\n",
    "    global player_score\n",
    "    print(\"CPU chose: \", cpu_choice)\n",
    "    print(\"Player chose: \", player_choise)\n",
    "    result = get_winner(player_choise, cpu_choice)\n",
    "    if result == 0:\n",
    "        print(\"There was a tie in the round\")\n",
    "    if result == 1:\n",
    "        print(\"The CPU won the round\")\n",
    "        cpu_score += 1\n",
    "    if result == 2:\n",
    "        print(\"The player won the round\")\n",
    "        player_score += 1\n",
    "\n",
    "n_rounds = 3\n",
    "rounds_to_win = 2\n",
    "while  n_played_rounds != n_rounds and  (player_score != rounds_to_win and cpu_score != rounds_to_win) :\n",
    "    player_choice = ask_player_for_gesture()\n",
    "    cpu_choice = return_cpu_choice()\n",
    "    print_game_stats(player_choice, cpu_choice)\n",
    "    n_played_rounds += 1\n",
    "    print(\"Round played: \", n_played_rounds)\n",
    "\n",
    "if cpu_score > player_score:\n",
    "    print(\"CPU Won the game!\")\n",
    "if cpu_score < player_score:\n",
    "    print(\"Player Won the game!\")\n",
    "if cpu_score == player_score:\n",
    "    print(\"There was a tie in the game!\")"
   ]
  },
  {
   "cell_type": "markdown",
   "metadata": {},
   "source": [
    "#### 11. Print the winner of the game based on who won more rounds.\n",
    "Remember that the game might be tied. "
   ]
  },
  {
   "cell_type": "code",
   "execution_count": null,
   "metadata": {},
   "outputs": [],
   "source": [
    "if cpu_score > player_score:\n",
    "    print(\"CPU Won the game!\")\n",
    "if cpu_score < player_score:\n",
    "    print(\"Player Won the game!\")\n",
    "if cpu_score == player_score:\n",
    "    print(\"There was a tie in the game!\")"
   ]
  },
  {
   "cell_type": "markdown",
   "metadata": {},
   "source": [
    "# Bonus: Rock, Paper, Scissors, Lizard & Spock\n",
    "![](images/rpsls.jpg)\n",
    "\n",
    "In this challenge, you need to improve the previous game by adding two new options. To know more about the rules of the improved version of rock, paper, scissors, check this [link](http://www.samkass.com/theories/RPSSL.html). \n",
    "\n",
    "In addition, you will also need to improve how the game interacts with the player: the number of rounds to play, which must be an odd number, will be requested to the user until a valid number is entered. Define a new function to make that request.\n",
    "\n",
    "**Hint**: Try to reuse the code that you already coded in the previous challenge. If your code is efficient, this bonus will only consist of simple modifications to the original game."
   ]
  },
  {
   "cell_type": "code",
   "execution_count": 3,
   "metadata": {},
   "outputs": [
    {
     "name": "stdout",
     "output_type": "stream",
     "text": [
      "How many rounds you want to play? It has to be an odd number: 3\n",
      "Alrighty! Let's play  3  rounds.\n",
      "Chose a gesture: either rock, paper, scissors, lizard, spock\n",
      "spock\n",
      "CPU chose:  lizard\n",
      "Player chose:  spock\n",
      "The CPU won the round\n",
      "Round played:  1\n",
      "Chose a gesture: either rock, paper, scissors, lizard, spock\n",
      "lizard\n",
      "CPU chose:  lizard\n",
      "Player chose:  lizard\n",
      "There was a tie in the round\n",
      "Round played:  2\n",
      "Chose a gesture: either rock, paper, scissors, lizard, spock\n",
      "paper\n",
      "CPU chose:  paper\n",
      "Player chose:  paper\n",
      "There was a tie in the round\n",
      "Round played:  3\n",
      "CPU Won the game!\n"
     ]
    }
   ],
   "source": [
    "import random\n",
    "from typing import ForwardRef\n",
    "\n",
    "gesture_options = (\"rock\", \"paper\", \"scissors\", \"lizard\", \"spock\")\n",
    "n_rounds = 0\n",
    "n_played_rounds = 0\n",
    "rounds_to_win = 0\n",
    "cpu_score = 0\n",
    "player_score = 0\n",
    "\n",
    "rounds_to_play = input(\"How many rounds you want to play? It has to be an odd number: \")\n",
    "\n",
    "try:\n",
    "    rounds_to_play = int(rounds_to_play)\n",
    "    if rounds_to_play % 2 == 0:\n",
    "        print(\"That is so NOT an odd number\")\n",
    "        rounds_to_play = 0\n",
    "    elif rounds_to_play > 10:\n",
    "        print(\"Try please less than 10\")\n",
    "        rounds_to_play = 0\n",
    "    else:\n",
    "        print(\"Alrighty! Let's play \", int(rounds_to_play), \" rounds.\")\n",
    "except ValueError:\n",
    "    print(\"To play \", rounds_to_play, \" rounds we'd have to slice your hand in pieces, honey.\")\n",
    "    rounds_to_play = 0\n",
    "\n",
    "\n",
    "def return_cpu_choice():\n",
    "    variable = random.choice(gesture_options)\n",
    "    return variable\n",
    "\n",
    "def ask_player_for_gesture():\n",
    "    print('Chose a gesture: either rock, paper, scissors, lizard, spock')\n",
    "    player_choice = input()\n",
    "    if player_choice != \"rock\":\n",
    "        if player_choice != \"paper\":\n",
    "            if player_choice != \"scissors\":\n",
    "                if player_choice != \"lizard\":\n",
    "                    if player_choice != \"spock\":\n",
    "                        return ask_player_for_gesture()\n",
    "    return player_choice\n",
    "\n",
    "def get_winner(player_choise, cpu_choice):\n",
    "    if player_choise == \"rock\" and cpu_choice == \"scissors\":\n",
    "        return 2\n",
    "    if player_choise == \"paper\" and cpu_choice == \"scissors\":\n",
    "        return 1\n",
    "    if player_choise == \"scissors\" and cpu_choice == \"scissors\":\n",
    "        return 0\n",
    "\n",
    "    if player_choise == \"rock\" and cpu_choice == \"paper\":\n",
    "        return 1\n",
    "    if player_choise == \"paper\" and cpu_choice == \"paper\":\n",
    "        return 0\n",
    "    if player_choise == \"scissors\" and cpu_choice == \"paper\":\n",
    "        return 2\n",
    "\n",
    "    if player_choise == \"rock\" and cpu_choice == \"rock\":\n",
    "        return 0\n",
    "    if player_choise == \"paper\" and cpu_choice == \"rock\":\n",
    "        return 2\n",
    "    if player_choise == \"scissors\" and cpu_choice == \"rock\":\n",
    "        return 1\n",
    "    \n",
    "    if player_choise == \"rock\" and cpu_choice == \"lizard\":\n",
    "        return 2\n",
    "    if player_choise == \"spock\" and cpu_choice == \"lizard\":\n",
    "        return 1\n",
    "    if player_choise == \"lizard\" and cpu_choice == \"lizard\":\n",
    "        return 0\n",
    "    \n",
    "    if player_choise == \"paper\" and cpu_choice == \"spock\":\n",
    "        return 2\n",
    "    if player_choise == \"scissors\" and cpu_choice == \"spock\":\n",
    "        return 1\n",
    "    if player_choise == \"spock\" and cpu_choice == \"spock\":\n",
    "        return 0\n",
    "    \n",
    "    if player_choise == \"lizard\" and cpu_choice == \"paper\":\n",
    "        return 2\n",
    "    if player_choise == \"paper\" and cpu_choice == \"lizard\":\n",
    "        return 1\n",
    "    \n",
    "    if player_choise == \"scissors\" and cpu_choice == \"lizard\":\n",
    "        return 2\n",
    "    if player_choise == \"lizard\" and cpu_choice == \"scissors\":\n",
    "        return 1\n",
    "    \n",
    "def print_game_stats(player_choise, cpu_choice):\n",
    "    global cpu_score\n",
    "    global player_score\n",
    "    print(\"CPU chose: \", cpu_choice)\n",
    "    print(\"Player chose: \", player_choise)\n",
    "    result = get_winner(player_choise, cpu_choice)\n",
    "    if result == 0:\n",
    "        print(\"There was a tie in the round\")\n",
    "    if result == 1:\n",
    "        print(\"The CPU won the round\")\n",
    "        cpu_score += 1\n",
    "    if result == 2:\n",
    "        print(\"The player won the round\")\n",
    "        player_score += 1\n",
    "\n",
    "n_rounds = rounds_to_play\n",
    "rounds_to_win = 2\n",
    "while  n_played_rounds != n_rounds and  (player_score != rounds_to_win and cpu_score != rounds_to_win) :\n",
    "    player_choice = ask_player_for_gesture()\n",
    "    cpu_choice = return_cpu_choice()\n",
    "    print_game_stats(player_choice, cpu_choice)\n",
    "    n_played_rounds += 1\n",
    "    print(\"Round played: \", n_played_rounds)\n",
    "\n",
    "if cpu_score > player_score:\n",
    "    print(\"CPU Won the game!\")\n",
    "if cpu_score < player_score:\n",
    "    print(\"Player Won the game!\")\n",
    "if cpu_score == player_score:\n",
    "    print(\"There was a tie in the game!\")"
   ]
  },
  {
   "cell_type": "code",
   "execution_count": null,
   "metadata": {},
   "outputs": [],
   "source": []
  }
 ],
 "metadata": {
  "kernelspec": {
   "display_name": "Python 3",
   "language": "python",
   "name": "python3"
  },
  "language_info": {
   "codemirror_mode": {
    "name": "ipython",
    "version": 3
   },
   "file_extension": ".py",
   "mimetype": "text/x-python",
   "name": "python",
   "nbconvert_exporter": "python",
   "pygments_lexer": "ipython3",
   "version": "3.8.5"
  }
 },
 "nbformat": 4,
 "nbformat_minor": 2
}
